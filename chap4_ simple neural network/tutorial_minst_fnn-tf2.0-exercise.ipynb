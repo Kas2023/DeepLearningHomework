{
 "cells": [
  {
   "cell_type": "markdown",
   "metadata": {},
   "source": [
    "## 准备数据"
   ]
  },
  {
   "cell_type": "code",
   "execution_count": 18,
   "metadata": {},
   "outputs": [],
   "source": [
    "import os\n",
    "import numpy as np\n",
    "import tensorflow as tf\n",
    "from tensorflow import keras\n",
    "from tensorflow.keras import layers, optimizers, datasets\n",
    "\n",
    "os.environ['TF_CPP_MIN_LOG_LEVEL'] = '2'  # or any {'0', '1', '2'}\n",
    "\n",
    "def mnist_dataset():\n",
    "    (x, y), (x_test, y_test) = datasets.mnist.load_data()\n",
    "    #normalize\n",
    "    x = x/255.0\n",
    "    x_test = x_test/255.0\n",
    "    \n",
    "    return (x, y), (x_test, y_test)"
   ]
  },
  {
   "cell_type": "code",
   "execution_count": 19,
   "metadata": {},
   "outputs": [
    {
     "name": "stdout",
     "output_type": "stream",
     "text": [
      "[(1, 'a'), (2, 'b'), (3, 'c'), (4, 'd')]\n"
     ]
    }
   ],
   "source": [
    "print(list(zip([1, 2, 3, 4], ['a', 'b', 'c', 'd'])))"
   ]
  },
  {
   "cell_type": "markdown",
   "metadata": {},
   "source": [
    "## 建立模型"
   ]
  },
  {
   "cell_type": "code",
   "execution_count": 20,
   "metadata": {},
   "outputs": [],
   "source": [
    "class myModel:\n",
    "    def __init__(self):\n",
    "        ####################\n",
    "        '''声明模型对应的参数'''\n",
    "        ####################\n",
    "        self.W1 = tf.Variable(tf.random.normal([28*28+1, 100]), name='W1')\n",
    "        self.b1 = tf.Variable(tf.zeros([1, 100]), name='b1')\n",
    "        self.W2 = tf.Variable(tf.random.normal([100, 10]), name='W2')\n",
    "        self.b2 = tf.Variable(tf.zeros([1, 10]), name='b2')\n",
    "\n",
    "    def __call__(self, x):\n",
    "        ####################\n",
    "        '''实现模型函数体，返回未归一化的logits'''\n",
    "        ####################\n",
    "        x = tf.reshape(x, (-1, 28*28))\n",
    "        bias = tf.ones([x.shape[0], 1])\n",
    "        x = tf.concat([x, bias], axis=1)\n",
    "\n",
    "        h1 = tf.matmul(x, self.W1) + self.b1\n",
    "        h1_relu = tf.nn.relu(h1)\n",
    "        h2 = tf.matmul(h1_relu, self.W2) + self.b2\n",
    "        logits = tf.nn.log_softmax(h2)\n",
    "        return logits\n",
    "        \n",
    "model = myModel()\n",
    "\n",
    "optimizer = optimizers.Adam()"
   ]
  },
  {
   "cell_type": "markdown",
   "metadata": {},
   "source": [
    "## 计算 loss"
   ]
  },
  {
   "cell_type": "code",
   "execution_count": 21,
   "metadata": {},
   "outputs": [],
   "source": [
    "@tf.function\n",
    "def compute_loss(logits, labels):\n",
    "    return tf.reduce_mean(\n",
    "        tf.nn.sparse_softmax_cross_entropy_with_logits(\n",
    "            logits=logits, labels=labels))\n",
    "\n",
    "@tf.function\n",
    "def compute_accuracy(logits, labels):\n",
    "    predictions = tf.argmax(logits, axis=1)\n",
    "    return tf.reduce_mean(tf.cast(tf.equal(predictions, labels), tf.float32))\n",
    "\n",
    "@tf.function\n",
    "def train_one_step(model, optimizer, x, y):\n",
    "    with tf.GradientTape() as tape:\n",
    "        logits = model(x)\n",
    "        loss = compute_loss(logits, y)\n",
    "\n",
    "    # compute gradient\n",
    "    trainable_vars = [model.W1, model.W2, model.b1, model.b2]\n",
    "    grads = tape.gradient(loss, trainable_vars)\n",
    "    # for g, v in zip(grads, trainable_vars):\n",
    "    #     v.assign_sub(0.01*g)\n",
    "    optimizer.apply_gradients(zip(grads, trainable_vars))\n",
    "\n",
    "    accuracy = compute_accuracy(logits, y)\n",
    "\n",
    "    # loss and accuracy is scalar tensor\n",
    "    return loss, accuracy\n",
    "\n",
    "@tf.function\n",
    "def test(model, x, y):\n",
    "    logits = model(x)\n",
    "    loss = compute_loss(logits, y)\n",
    "    accuracy = compute_accuracy(logits, y)\n",
    "    return loss, accuracy"
   ]
  },
  {
   "cell_type": "markdown",
   "metadata": {},
   "source": [
    "## 实际训练"
   ]
  },
  {
   "cell_type": "code",
   "execution_count": 28,
   "metadata": {},
   "outputs": [
    {
     "name": "stdout",
     "output_type": "stream",
     "text": [
      "epoch 0 : loss 5.376735 ; accuracy 0.7920333\n",
      "epoch 1 : loss 5.358925 ; accuracy 0.79263335\n",
      "epoch 2 : loss 5.341231 ; accuracy 0.79305\n",
      "epoch 3 : loss 5.323648 ; accuracy 0.79366666\n",
      "epoch 4 : loss 5.3061852 ; accuracy 0.7942333\n",
      "epoch 5 : loss 5.2888293 ; accuracy 0.79473335\n",
      "epoch 6 : loss 5.2715883 ; accuracy 0.79538333\n",
      "epoch 7 : loss 5.254459 ; accuracy 0.79586667\n",
      "epoch 8 : loss 5.2374396 ; accuracy 0.7962833\n",
      "epoch 9 : loss 5.220537 ; accuracy 0.7966667\n",
      "epoch 10 : loss 5.203751 ; accuracy 0.79711664\n",
      "epoch 11 : loss 5.187079 ; accuracy 0.79766667\n",
      "epoch 12 : loss 5.1705146 ; accuracy 0.7982\n",
      "epoch 13 : loss 5.1540594 ; accuracy 0.79871666\n",
      "epoch 14 : loss 5.137708 ; accuracy 0.79925\n",
      "epoch 15 : loss 5.12147 ; accuracy 0.7996333\n",
      "epoch 16 : loss 5.1053295 ; accuracy 0.8001\n",
      "epoch 17 : loss 5.0892854 ; accuracy 0.80055\n",
      "epoch 18 : loss 5.073342 ; accuracy 0.80093336\n",
      "epoch 19 : loss 5.057499 ; accuracy 0.80128336\n",
      "epoch 20 : loss 5.0417514 ; accuracy 0.80181664\n",
      "epoch 21 : loss 5.026108 ; accuracy 0.80231667\n",
      "epoch 22 : loss 5.010562 ; accuracy 0.8027667\n",
      "epoch 23 : loss 4.9951158 ; accuracy 0.80315\n",
      "epoch 24 : loss 4.9797654 ; accuracy 0.8038\n",
      "epoch 25 : loss 4.964506 ; accuracy 0.80415\n",
      "epoch 26 : loss 4.9493384 ; accuracy 0.8046167\n",
      "epoch 27 : loss 4.9342566 ; accuracy 0.8049167\n",
      "epoch 28 : loss 4.919262 ; accuracy 0.8052833\n",
      "epoch 29 : loss 4.90435 ; accuracy 0.80575\n",
      "epoch 30 : loss 4.8895197 ; accuracy 0.8060333\n",
      "epoch 31 : loss 4.8747735 ; accuracy 0.80646664\n",
      "epoch 32 : loss 4.860111 ; accuracy 0.80685\n",
      "epoch 33 : loss 4.845523 ; accuracy 0.80738336\n",
      "epoch 34 : loss 4.8310103 ; accuracy 0.8078\n",
      "epoch 35 : loss 4.816577 ; accuracy 0.8082167\n",
      "epoch 36 : loss 4.8022227 ; accuracy 0.8085667\n",
      "epoch 37 : loss 4.7879424 ; accuracy 0.80903333\n",
      "epoch 38 : loss 4.7737436 ; accuracy 0.80945\n",
      "epoch 39 : loss 4.7596264 ; accuracy 0.80983335\n",
      "epoch 40 : loss 4.7455873 ; accuracy 0.81016666\n",
      "epoch 41 : loss 4.731619 ; accuracy 0.81045\n",
      "epoch 42 : loss 4.7177362 ; accuracy 0.8108\n",
      "epoch 43 : loss 4.7039394 ; accuracy 0.81116664\n",
      "epoch 44 : loss 4.6902175 ; accuracy 0.81151664\n",
      "epoch 45 : loss 4.676572 ; accuracy 0.81188333\n",
      "epoch 46 : loss 4.663003 ; accuracy 0.8123\n",
      "epoch 47 : loss 4.649504 ; accuracy 0.8128333\n",
      "epoch 48 : loss 4.63608 ; accuracy 0.8132\n",
      "epoch 49 : loss 4.622731 ; accuracy 0.8135\n",
      "test loss 4.6824336 ; accuracy 0.8144\n"
     ]
    }
   ],
   "source": [
    "train_data, test_data = mnist_dataset()\n",
    "for epoch in range(50):\n",
    "    loss, accuracy = train_one_step(model, optimizer, \n",
    "                                    tf.constant(train_data[0], dtype=tf.float32), \n",
    "                                    tf.constant(train_data[1], dtype=tf.int64))\n",
    "    print('epoch', epoch, ': loss', loss.numpy(), '; accuracy', accuracy.numpy())\n",
    "loss, accuracy = test(model, \n",
    "                      tf.constant(test_data[0], dtype=tf.float32), \n",
    "                      tf.constant(test_data[1], dtype=tf.int64))\n",
    "\n",
    "print('test loss', loss.numpy(), '; accuracy', accuracy.numpy())"
   ]
  }
 ],
 "metadata": {
  "kernelspec": {
   "display_name": "Python 3",
   "language": "python",
   "name": "python3"
  },
  "language_info": {
   "codemirror_mode": {
    "name": "ipython",
    "version": 3
   },
   "file_extension": ".py",
   "mimetype": "text/x-python",
   "name": "python",
   "nbconvert_exporter": "python",
   "pygments_lexer": "ipython3",
   "version": "3.9.0"
  }
 },
 "nbformat": 4,
 "nbformat_minor": 2
}
